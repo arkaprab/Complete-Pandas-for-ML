{
 "cells": [
  {
   "cell_type": "code",
   "execution_count": 6,
   "metadata": {},
   "outputs": [
    {
     "name": "stdout",
     "output_type": "stream",
     "text": [
      "   A   B  C\n",
      "0  1   3  4\n",
      "1  2   4  3\n",
      "2  3  45  2\n",
      "3  4   5  1\n"
     ]
    }
   ],
   "source": [
    "# To convert files to CSV\n",
    "import pandas as pd\n",
    "car=pd.DataFrame({\"A\":[1,2,3,4],\n",
    "                  \"B\":[3,4,45,5],\n",
    "                  \"C\":[4,3,2,1]})\n",
    "print(pd.DataFrame(car))\n",
    "car.to_csv(\"Test_New.csv\",index=False)"
   ]
  },
  {
   "cell_type": "code",
   "execution_count": 2,
   "metadata": {},
   "outputs": [
    {
     "name": "stdout",
     "output_type": "stream",
     "text": [
      "   A  B  C  D\n",
      "0  1  9  3  1\n",
      "1  2  0  4  2\n"
     ]
    }
   ],
   "source": [
    "import pandas as pd\n",
    "a={\"A\":[1,2],\n",
    "   \"B\":[9,0],\n",
    "   \"C\":[3,4],\n",
    "   \"D\":[1,2]}\n",
    "q=pd.DataFrame(a)\n",
    "print(pd.DataFrame(q))\n",
    "s=q.to_csv(\"Newfile.csv\", index=True)\n",
    "s"
   ]
  }
 ],
 "metadata": {
  "kernelspec": {
   "display_name": "Python 3",
   "language": "python",
   "name": "python3"
  },
  "language_info": {
   "codemirror_mode": {
    "name": "ipython",
    "version": 3
   },
   "file_extension": ".py",
   "mimetype": "text/x-python",
   "name": "python",
   "nbconvert_exporter": "python",
   "pygments_lexer": "ipython3",
   "version": "3.12.5"
  }
 },
 "nbformat": 4,
 "nbformat_minor": 2
}
